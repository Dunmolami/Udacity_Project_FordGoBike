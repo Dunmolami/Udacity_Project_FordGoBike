{
 "cells": [
  {
   "cell_type": "markdown",
   "metadata": {
    "slideshow": {
     "slide_type": "slide"
    }
   },
   "source": [
    "# Part II - FordGoBike Data Exploratory Analysis Presentation\n",
    "\n",
    "## by (Oluwadunsin Olajide)"
   ]
  },
  {
   "cell_type": "markdown",
   "metadata": {
    "slideshow": {
     "slide_type": "slide"
    }
   },
   "source": [
    "\n",
    "\n",
    "\n",
    "\n",
    "## Investigation Overview\n",
    "\n",
    "\n",
    "Ford GoBike is the first bike-sharing system introduced in the US West Coast. Its 540 stations and 7,000 bikes sprawl across five cities in San Francisco Bay Area.The FordGoBike dataset will be used to carry out Exploratory and Explanatory analysis to find insights, patterns and trends from the dataset.\n",
    " \n",
    "\n",
    "\n",
    "## Dataset Overview\n",
    "\n",
    "The cleaned data used for analysis has the total of 174952 entries of bike trips with 21 columns( the colums gives information about the duration in secs and mins each rider used the bike, start and end time,the day of the week and hours the users used the bike, start and end stations with their latitudes and longitudes, bike id, start and end stations ids, user type( i.e whether the user is a subscriber or customer), bike_share_for_all_trip (this column indicate whether the user is registered for the reduced pricing option), the gender and age."
   ]
  },
  {
   "cell_type": "code",
   "execution_count": 1,
   "metadata": {
    "slideshow": {
     "slide_type": "skip"
    }
   },
   "outputs": [],
   "source": [
    "# import all packages and set plots to be embedded inline\n",
    "import numpy as np\n",
    "import pandas as pd\n",
    "import matplotlib.pyplot as plt\n",
    "import seaborn as sb\n",
    "\n",
    "%matplotlib inline\n",
    "\n",
    "# suppress warnings from final output\n",
    "import warnings\n",
    "warnings.simplefilter(\"ignore\")"
   ]
  },
  {
   "cell_type": "code",
   "execution_count": 2,
   "metadata": {
    "slideshow": {
     "slide_type": "skip"
    }
   },
   "outputs": [],
   "source": [
    "# Load the cleaned dataset\n",
    "df_biketrip = pd.read_csv('fordgobike_master.csv')"
   ]
  },
  {
   "cell_type": "code",
   "execution_count": 3,
   "metadata": {
    "slideshow": {
     "slide_type": "notes"
    }
   },
   "outputs": [
    {
     "data": {
      "text/html": [
       "<div>\n",
       "<style scoped>\n",
       "    .dataframe tbody tr th:only-of-type {\n",
       "        vertical-align: middle;\n",
       "    }\n",
       "\n",
       "    .dataframe tbody tr th {\n",
       "        vertical-align: top;\n",
       "    }\n",
       "\n",
       "    .dataframe thead th {\n",
       "        text-align: right;\n",
       "    }\n",
       "</style>\n",
       "<table border=\"1\" class=\"dataframe\">\n",
       "  <thead>\n",
       "    <tr style=\"text-align: right;\">\n",
       "      <th></th>\n",
       "      <th>duration_sec</th>\n",
       "      <th>start_time</th>\n",
       "      <th>end_time</th>\n",
       "      <th>start_station_id</th>\n",
       "      <th>start_station_name</th>\n",
       "      <th>start_station_latitude</th>\n",
       "      <th>start_station_longitude</th>\n",
       "      <th>end_station_id</th>\n",
       "      <th>end_station_name</th>\n",
       "      <th>end_station_latitude</th>\n",
       "      <th>...</th>\n",
       "      <th>user_type</th>\n",
       "      <th>member_birth_year</th>\n",
       "      <th>member_gender</th>\n",
       "      <th>bike_share_for_all_trip</th>\n",
       "      <th>start_day_of_week</th>\n",
       "      <th>day_in_month</th>\n",
       "      <th>time_of_day</th>\n",
       "      <th>start_hour</th>\n",
       "      <th>duration_min</th>\n",
       "      <th>member_age</th>\n",
       "    </tr>\n",
       "  </thead>\n",
       "  <tbody>\n",
       "    <tr>\n",
       "      <th>0</th>\n",
       "      <td>52185</td>\n",
       "      <td>2019-02-28 17:32:10.145</td>\n",
       "      <td>2019-03-01 08:01:55.9750</td>\n",
       "      <td>21.0</td>\n",
       "      <td>Montgomery St BART Station (Market St at 2nd St)</td>\n",
       "      <td>37.789625</td>\n",
       "      <td>-122.400811</td>\n",
       "      <td>13.0</td>\n",
       "      <td>Commercial St at Montgomery St</td>\n",
       "      <td>37.794231</td>\n",
       "      <td>...</td>\n",
       "      <td>Customer</td>\n",
       "      <td>1984.0</td>\n",
       "      <td>Male</td>\n",
       "      <td>No</td>\n",
       "      <td>Thursday</td>\n",
       "      <td>28</td>\n",
       "      <td>afternoon</td>\n",
       "      <td>17</td>\n",
       "      <td>869.750000</td>\n",
       "      <td>35</td>\n",
       "    </tr>\n",
       "    <tr>\n",
       "      <th>1</th>\n",
       "      <td>61854</td>\n",
       "      <td>2019-02-28 12:13:13.218</td>\n",
       "      <td>2019-03-01 05:24:08.1460</td>\n",
       "      <td>86.0</td>\n",
       "      <td>Market St at Dolores St</td>\n",
       "      <td>37.769305</td>\n",
       "      <td>-122.426826</td>\n",
       "      <td>3.0</td>\n",
       "      <td>Powell St BART Station (Market St at 4th St)</td>\n",
       "      <td>37.786375</td>\n",
       "      <td>...</td>\n",
       "      <td>Customer</td>\n",
       "      <td>1972.0</td>\n",
       "      <td>Male</td>\n",
       "      <td>No</td>\n",
       "      <td>Thursday</td>\n",
       "      <td>28</td>\n",
       "      <td>afternoon</td>\n",
       "      <td>12</td>\n",
       "      <td>1030.900000</td>\n",
       "      <td>47</td>\n",
       "    </tr>\n",
       "    <tr>\n",
       "      <th>2</th>\n",
       "      <td>36490</td>\n",
       "      <td>2019-02-28 17:54:26.010</td>\n",
       "      <td>2019-03-01 04:02:36.8420</td>\n",
       "      <td>375.0</td>\n",
       "      <td>Grove St at Masonic Ave</td>\n",
       "      <td>37.774836</td>\n",
       "      <td>-122.446546</td>\n",
       "      <td>70.0</td>\n",
       "      <td>Central Ave at Fell St</td>\n",
       "      <td>37.773311</td>\n",
       "      <td>...</td>\n",
       "      <td>Subscriber</td>\n",
       "      <td>1989.0</td>\n",
       "      <td>Other</td>\n",
       "      <td>No</td>\n",
       "      <td>Thursday</td>\n",
       "      <td>28</td>\n",
       "      <td>afternoon</td>\n",
       "      <td>17</td>\n",
       "      <td>608.166667</td>\n",
       "      <td>30</td>\n",
       "    </tr>\n",
       "    <tr>\n",
       "      <th>3</th>\n",
       "      <td>1585</td>\n",
       "      <td>2019-02-28 23:54:18.549</td>\n",
       "      <td>2019-03-01 00:20:44.0740</td>\n",
       "      <td>7.0</td>\n",
       "      <td>Frank H Ogawa Plaza</td>\n",
       "      <td>37.804562</td>\n",
       "      <td>-122.271738</td>\n",
       "      <td>222.0</td>\n",
       "      <td>10th Ave at E 15th St</td>\n",
       "      <td>37.792714</td>\n",
       "      <td>...</td>\n",
       "      <td>Subscriber</td>\n",
       "      <td>1974.0</td>\n",
       "      <td>Male</td>\n",
       "      <td>Yes</td>\n",
       "      <td>Thursday</td>\n",
       "      <td>28</td>\n",
       "      <td>night</td>\n",
       "      <td>23</td>\n",
       "      <td>26.416667</td>\n",
       "      <td>45</td>\n",
       "    </tr>\n",
       "    <tr>\n",
       "      <th>4</th>\n",
       "      <td>1793</td>\n",
       "      <td>2019-02-28 23:49:58.632</td>\n",
       "      <td>2019-03-01 00:19:51.7600</td>\n",
       "      <td>93.0</td>\n",
       "      <td>4th St at Mission Bay Blvd S</td>\n",
       "      <td>37.770407</td>\n",
       "      <td>-122.391198</td>\n",
       "      <td>323.0</td>\n",
       "      <td>Broadway at Kearny</td>\n",
       "      <td>37.798014</td>\n",
       "      <td>...</td>\n",
       "      <td>Subscriber</td>\n",
       "      <td>1959.0</td>\n",
       "      <td>Male</td>\n",
       "      <td>No</td>\n",
       "      <td>Thursday</td>\n",
       "      <td>28</td>\n",
       "      <td>night</td>\n",
       "      <td>23</td>\n",
       "      <td>29.883333</td>\n",
       "      <td>60</td>\n",
       "    </tr>\n",
       "  </tbody>\n",
       "</table>\n",
       "<p>5 rows × 22 columns</p>\n",
       "</div>"
      ],
      "text/plain": [
       "   duration_sec               start_time                  end_time  \\\n",
       "0         52185  2019-02-28 17:32:10.145  2019-03-01 08:01:55.9750   \n",
       "1         61854  2019-02-28 12:13:13.218  2019-03-01 05:24:08.1460   \n",
       "2         36490  2019-02-28 17:54:26.010  2019-03-01 04:02:36.8420   \n",
       "3          1585  2019-02-28 23:54:18.549  2019-03-01 00:20:44.0740   \n",
       "4          1793  2019-02-28 23:49:58.632  2019-03-01 00:19:51.7600   \n",
       "\n",
       "   start_station_id                                start_station_name  \\\n",
       "0              21.0  Montgomery St BART Station (Market St at 2nd St)   \n",
       "1              86.0                           Market St at Dolores St   \n",
       "2             375.0                           Grove St at Masonic Ave   \n",
       "3               7.0                               Frank H Ogawa Plaza   \n",
       "4              93.0                      4th St at Mission Bay Blvd S   \n",
       "\n",
       "   start_station_latitude  start_station_longitude  end_station_id  \\\n",
       "0               37.789625              -122.400811            13.0   \n",
       "1               37.769305              -122.426826             3.0   \n",
       "2               37.774836              -122.446546            70.0   \n",
       "3               37.804562              -122.271738           222.0   \n",
       "4               37.770407              -122.391198           323.0   \n",
       "\n",
       "                               end_station_name  end_station_latitude  ...  \\\n",
       "0                Commercial St at Montgomery St             37.794231  ...   \n",
       "1  Powell St BART Station (Market St at 4th St)             37.786375  ...   \n",
       "2                        Central Ave at Fell St             37.773311  ...   \n",
       "3                         10th Ave at E 15th St             37.792714  ...   \n",
       "4                            Broadway at Kearny             37.798014  ...   \n",
       "\n",
       "    user_type  member_birth_year member_gender  bike_share_for_all_trip  \\\n",
       "0    Customer             1984.0          Male                       No   \n",
       "1    Customer             1972.0          Male                       No   \n",
       "2  Subscriber             1989.0         Other                       No   \n",
       "3  Subscriber             1974.0          Male                      Yes   \n",
       "4  Subscriber             1959.0          Male                       No   \n",
       "\n",
       "  start_day_of_week day_in_month time_of_day  start_hour duration_min  \\\n",
       "0          Thursday           28   afternoon          17   869.750000   \n",
       "1          Thursday           28   afternoon          12  1030.900000   \n",
       "2          Thursday           28   afternoon          17   608.166667   \n",
       "3          Thursday           28       night          23    26.416667   \n",
       "4          Thursday           28       night          23    29.883333   \n",
       "\n",
       "   member_age  \n",
       "0          35  \n",
       "1          47  \n",
       "2          30  \n",
       "3          45  \n",
       "4          60  \n",
       "\n",
       "[5 rows x 22 columns]"
      ]
     },
     "execution_count": 3,
     "metadata": {},
     "output_type": "execute_result"
    }
   ],
   "source": [
    "df_biketrip.head()"
   ]
  },
  {
   "cell_type": "markdown",
   "metadata": {
    "slideshow": {
     "slide_type": "slide"
    }
   },
   "source": [
    "## Distribution of Trips based on User_type\n",
    "\n",
    "The user type indicate whether the biker user is a subscriber or a customer . The chart below shows that the highest number of trips were taken by the suscribers.Subscribers have a monthly or annual pass (i.e they have either paid for the bike usage for a month or year) while customers have a single-ride or day pass (i.e they pay for the bike usage daily).This makes sense because, subscriber pay less for the trip when compared to the amount paid by the customers. The subscribers don't have to pay unlock fee while the customers pay.\n",
    "\n"
   ]
  },
  {
   "cell_type": "code",
   "execution_count": 4,
   "metadata": {
    "slideshow": {
     "slide_type": "subslide"
    }
   },
   "outputs": [
    {
     "data": {
      "image/png": "[encoded data removed]",
      "text/plain": [
       "<Figure size 432x288 with 1 Axes>"
      ]
     },
     "metadata": {
      "needs_background": "light"
     },
     "output_type": "display_data"
    }
   ],
   "source": [
    "base_color= sb.color_palette()[2]\n",
    "user_order = df_biketrip['user_type'].value_counts().index\n",
    "splot= sb.countplot(data=df_biketrip, x='user_type', color=base_color, order= user_order);\n",
    "plt.bar_label(splot.containers[0],size=10,label_type='edge')\n",
    "plt.xlabel('Type of User')\n",
    "plt.ylabel('Count of Bike Trips')\n",
    "plt.title('Number of Trips per User Type in February, 2019', fontweight='bold');"
   ]
  },
  {
   "cell_type": "markdown",
   "metadata": {
    "collapsed": true,
    "slideshow": {
     "slide_type": "slide"
    }
   },
   "source": [
    "## Age Distribution of Bike Users\n",
    "\n",
    "The age distribution of all the bike users in the month of February 2019 is shown in the chart below. The average age of the distribution is 34 years. The age range of users of the bike system with highest bike trips is between 30 - 40 years."
   ]
  },
  {
   "cell_type": "code",
   "execution_count": 5,
   "metadata": {
    "slideshow": {
     "slide_type": "subslide"
    }
   },
   "outputs": [
    {
     "data": {
      "image/png": "[encoded data removed]",
      "text/plain": [
       "<Figure size 432x288 with 1 Axes>"
      ]
     },
     "metadata": {
      "needs_background": "light"
     },
     "output_type": "display_data"
    }
   ],
   "source": [
    "#scale transformation for x-axis to log-type\n",
    "bins = 10**np.arange(1.2, 2.149 + 0.02, 0.02)\n",
    "plt.hist(data=df_biketrip, x='member_age', bins= bins);\n",
    "plt.xscale('log');\n",
    "plt.xticks([10,20,30,35,40,50,70,90,100], [10,20,30,35,40,50,70,90,100]);\n",
    "plt.xlabel('Age (Year)')\n",
    "plt.ylabel('Count of bike trips')\n",
    "plt.title('Log-Age Distribution of bike users in February 2019', fontweight='bold');"
   ]
  },
  {
   "cell_type": "markdown",
   "metadata": {
    "slideshow": {
     "slide_type": "slide"
    }
   },
   "source": [
    "## Duration of Trip\n",
    "\n",
    "The duartion of trip in minutes was plotted by transforming the x-axis scale to log-scale. it shows a normal distribution with peak around 9-10 minutes. That means the highest number of trips lasted for about 9-10 minutes."
   ]
  },
  {
   "cell_type": "code",
   "execution_count": 6,
   "metadata": {
    "slideshow": {
     "slide_type": "subslide"
    }
   },
   "outputs": [
    {
     "data": {
      "image/png": "[encoded data removed]",
      "text/plain": [
       "<Figure size 432x288 with 1 Axes>"
      ]
     },
     "metadata": {
      "needs_background": "light"
     },
     "output_type": "display_data"
    }
   ],
   "source": [
    "#scale transformation for x-axis to log-type\n",
    "bins = 10**np.arange(0, 3.14 + 0.03, 0.03)\n",
    "plt.hist(data=df_biketrip, x='duration_min', bins= bins);\n",
    "plt.xscale('log');\n",
    "plt.xticks=[0, 1, 3, 5, 7, 9, 11, 13,15,50,100,0.5e3,1e3,1.5e3],[0,'1','3','5','7','9','11','13','15','50','100','500','1k','1.5k']\n",
    "plt.xlabel('Duration_min (Minutes)')\n",
    "plt.ylabel('Count of bike trips')\n",
    "plt.title('Log-Distribution of Duration of bike trips in February 2019', fontweight='bold');"
   ]
  },
  {
   "cell_type": "markdown",
   "metadata": {},
   "source": [
    "## Distribution of user type and day of week\n",
    "\n",
    "The chart below shows how often each category of bike users use the bike during the week all through February 2019."
   ]
  },
  {
   "cell_type": "code",
   "execution_count": 7,
   "metadata": {},
   "outputs": [
    {
     "data": {
      "image/png": "[encoded data removed]",
      "text/plain": [
       "<Figure size 432x288 with 1 Axes>"
      ]
     },
     "metadata": {
      "needs_background": "light"
     },
     "output_type": "display_data"
    }
   ],
   "source": [
    "sb.countplot(data=df_biketrip, x= 'user_type', hue='start_day_of_week');\n",
    "plt.title('Distribution of user type and day of week', fontweight='bold')\n",
    "plt.xlabel('User type')\n",
    "plt.ylabel('Count of Bike Trips');"
   ]
  },
  {
   "cell_type": "markdown",
   "metadata": {},
   "source": [
    "## Age and Duration Distribution with respect to User Type\n",
    "\n",
    "The duration of trip in mins across the age distribution and user type follow the same trend. there is an interesting finding in the analysis, As few as the customers are, they tend to ride for longer period of time than subscriber."
   ]
  },
  {
   "cell_type": "code",
   "execution_count": 8,
   "metadata": {},
   "outputs": [
    {
     "data": {
      "text/plain": [
       "<Figure size 1296x1296 with 0 Axes>"
      ]
     },
     "metadata": {},
     "output_type": "display_data"
    },
    {
     "data": {
      "image/png": "[encoded data removed]",
      "text/plain": [
       "<Figure size 432x216 with 2 Axes>"
      ]
     },
     "metadata": {
      "needs_background": "light"
     },
     "output_type": "display_data"
    }
   ],
   "source": [
    "plt.figure(figsize = [18, 18])\n",
    "g = sb.FacetGrid(data = df_biketrip, col = 'user_type')\n",
    "g.map(plt.scatter,data = df_biketrip, x = 'member_age', y = 'duration_min', alpha= 0.3, color = 'green')\n",
    "g.set_xlabels('Age (Year)')\n",
    "g.set_ylabels('Duration (mins)');\n",
    "g.fig.suptitle('Time Distribution of Trips, Member Age,and user type', fontweight='bold');\n",
    "g.fig.tight_layout()"
   ]
  },
  {
   "cell_type": "markdown",
   "metadata": {
    "slideshow": {
     "slide_type": "skip"
    }
   },
   "source": [
    "### Generate Slideshow\n",
    "Once you're ready to generate your slideshow, use the `jupyter nbconvert` command to generate the HTML slide show.  "
   ]
  },
  {
   "cell_type": "code",
   "execution_count": 9,
   "metadata": {
    "slideshow": {
     "slide_type": "skip"
    }
   },
   "outputs": [
    {
     "name": "stderr",
     "output_type": "stream",
     "text": [
      "[NbConvertApp] Converting notebook Part_II_fordgobike_slide_deck.ipynb to slides\n",
      "[NbConvertApp] Writing 673713 bytes to Part_II_fordgobike_slide_deck.slides.html\n",
      "[NbConvertApp] Redirecting reveal.js requests to https://cdnjs.cloudflare.com/ajax/libs/reveal.js/3.5.0\n",
      "Traceback (most recent call last):\n",
      "  File \"C:\\Users\\User\\anaconda3\\Scripts\\jupyter-nbconvert-script.py\", line 10, in <module>\n",
      "    sys.exit(main())\n",
      "  File \"C:\\Users\\User\\anaconda3\\lib\\site-packages\\jupyter_core\\application.py\", line 264, in launch_instance\n",
      "    return super(JupyterApp, cls).launch_instance(argv=argv, **kwargs)\n",
      "  File \"C:\\Users\\User\\anaconda3\\lib\\site-packages\\traitlets\\config\\application.py\", line 846, in launch_instance\n",
      "    app.start()\n",
      "  File \"C:\\Users\\User\\anaconda3\\lib\\site-packages\\nbconvert\\nbconvertapp.py\", line 346, in start\n",
      "    self.convert_notebooks()\n",
      "  File \"C:\\Users\\User\\anaconda3\\lib\\site-packages\\nbconvert\\nbconvertapp.py\", line 518, in convert_notebooks\n",
      "    self.convert_single_notebook(notebook_filename)\n",
      "  File \"C:\\Users\\User\\anaconda3\\lib\\site-packages\\nbconvert\\nbconvertapp.py\", line 485, in convert_single_notebook\n",
      "    self.postprocess_single_notebook(write_results)\n",
      "  File \"C:\\Users\\User\\anaconda3\\lib\\site-packages\\nbconvert\\nbconvertapp.py\", line 457, in postprocess_single_notebook\n",
      "    self.postprocessor(write_results)\n",
      "  File \"C:\\Users\\User\\anaconda3\\lib\\site-packages\\nbconvert\\postprocessors\\base.py\", line 28, in __call__\n",
      "    self.postprocess(input)\n",
      "  File \"C:\\Users\\User\\anaconda3\\lib\\site-packages\\nbconvert\\postprocessors\\serve.py\", line 90, in postprocess\n",
      "    http_server.listen(self.port, address=self.ip)\n",
      "  File \"C:\\Users\\User\\anaconda3\\lib\\site-packages\\tornado\\tcpserver.py\", line 151, in listen\n",
      "    sockets = bind_sockets(port, address=address)\n",
      "  File \"C:\\Users\\User\\anaconda3\\lib\\site-packages\\tornado\\netutil.py\", line 161, in bind_sockets\n",
      "    sock.bind(sockaddr)\n",
      "OSError: [WinError 10048] Only one usage of each socket address (protocol/network address/port) is normally permitted\n"
     ]
    }
   ],
   "source": [
    "# Use this command if you are running this file in local\n",
    "!jupyter nbconvert Part_II_fordgobike_slide_deck.ipynb --to slides --post serve --no-input --no-prompt"
   ]
  },
  {
   "cell_type": "code",
   "execution_count": null,
   "metadata": {},
   "outputs": [],
   "source": []
  }
 ],
 "metadata": {
  "celltoolbar": "Slideshow",
  "kernelspec": {
   "display_name": "Python 3 (ipykernel)",
   "language": "python",
   "name": "python3"
  },
  "language_info": {
   "codemirror_mode": {
    "name": "ipython",
    "version": 3
   },
   "file_extension": ".py",
   "mimetype": "text/x-python",
   "name": "python",
   "nbconvert_exporter": "python",
   "pygments_lexer": "ipython3",
   "version": "3.9.7"
  }
 },
 "nbformat": 4,
 "nbformat_minor": 2
}
